{
 "cells": [
  {
   "cell_type": "code",
   "execution_count": null,
   "metadata": {},
   "outputs": [
    {
     "ename": "",
     "evalue": "",
     "output_type": "error",
     "traceback": [
      "\u001b[1;31mThe kernel failed to start as a dll could not be loaded.\n",
      "\u001b[1;31mClick <a href='https://aka.ms/kernelFailuresDllLoad'>here</a> for more info."
     ]
    }
   ],
   "source": [
    "import tensorflow as tf\n",
    "import numpy as np\n",
    "import os\n",
    "from matplotlib import pyplot as plt\n",
    "from tensorflow import keras\n",
    "from keras.preprocessing import image\n",
    "#from myimage import ImageDataGenerator\n",
    "from sklearn.metrics import classification_report, confusion_matrix, plot_confusion_matrix\n",
    "\n",
    "from keras.utils import to_categorical  \n",
    "import keras.utils as util\n",
    "#from keras.layers.experimental import preprocessing\n",
    "import ast\n",
    "import os"
   ]
  },
  {
   "cell_type": "code",
   "execution_count": 34,
   "metadata": {},
   "outputs": [],
   "source": [
    "import splitfolders"
   ]
  },
  {
   "cell_type": "code",
   "execution_count": 36,
   "metadata": {},
   "outputs": [
    {
     "data": {
      "text/plain": [
       "(150,)"
      ]
     },
     "execution_count": 36,
     "metadata": {},
     "output_type": "execute_result"
    }
   ],
   "source": [
    "def mean_of_geometric(data):\n",
    "    F_lower=[[],[]]\n",
    "    F=[]\n",
    "    d=[]\n",
    "    f=[]\n",
    "\n",
    "    ox=np.array([1,0,0]).reshape(-1,1)\n",
    "    oy=np.array([0,1,0]).reshape(-1,1)\n",
    "    oz=np.array([0,0,1]).reshape(-1,1)\n",
    "\n",
    "    for N in range(1, (len(data)//20)+1):\n",
    "      F_lower=[[],[]]\n",
    "      for i in range((N-1)*20, N*20):\n",
    "        for j in range(i+1, N*20):\n",
    "          (xi, yi, zi)=data[i]\n",
    "          (xj, yj, zj)=data[j]\n",
    "          ji=np.sqrt((yj-yi)**2+(zj-zi)**2+(xj-xi)**2)\n",
    "\n",
    "          d.append(np.sqrt((yj-yi)**2+(zj-zi)**2))\n",
    "          d.append(np.sqrt((xj-xi)**2+(zj-zi)**2))\n",
    "          d.append(np.sqrt((xj-xi)**2+(yj-yi)**2))\n",
    "          F_lower[0].append(d)\n",
    "\n",
    "          if ji!=0.0:\n",
    "            t1=np.arccos(np.clip((np.dot(np.array(d), oy)//ji), -1.0, 1.0))\n",
    "            f.append(t1[0])\n",
    "            t2=np.arccos(np.clip((np.dot(np.array(d), oz)//ji), -1.0, 1.0))\n",
    "            f.append(t2[0])\n",
    "            t3=np.arccos(np.clip((np.dot(np.array(d), ox)//ji), -1.0, 1.0))\n",
    "            f.append(t3[0])\n",
    "            F_lower[1].append(f)\n",
    "          else:\n",
    "            f.append(0.0)\n",
    "            f.append(0.0)\n",
    "            f.append(0.0)\n",
    "            F_lower[1].append(f)\n",
    "\n",
    "          d=[]\n",
    "          f=[]\n",
    "      F.append(F_lower)\n",
    "      \n",
    "    F_means=[]\n",
    "    F_mean=[[], []]\n",
    "    \n",
    "    m=[[],[]]\n",
    "    tem=np.zeros((190, 3)).tolist()\n",
    "    m[0]=tem\n",
    "    m[1]=tem\n",
    "\n",
    "    count=0\n",
    "    k=0\n",
    "    while k<len(F):\n",
    "        if count==30:\n",
    "            k=k-24\n",
    "            count=0\n",
    "            m=(np.array(m)/30).tolist()\n",
    "            F_mean[0]=m[0]\n",
    "            F_mean[1]=m[1]\n",
    "            \n",
    "            F_means.append(F_mean)\n",
    "            \n",
    "            F_mean=[[], []]\n",
    "            \n",
    "            m=[[],[]]\n",
    "            tem=np.zeros((190, 3)).tolist()\n",
    "            m[0]=tem\n",
    "            m[1]=tem\n",
    "            \n",
    "        for j in range(0, 190): \n",
    "          m[0][j]=(np.array(m[0][j])+np.array(F[k][0][j])).tolist()\n",
    "          m[1][j]=np.array(m[1][j])+np.array(F[k][1][j]).tolist()\n",
    "        \n",
    "        \n",
    "        if k==len(F)-1 and count!=30 and count!=0:\n",
    "            t=k-(k//30)*30\n",
    "            if t!=0:\n",
    "                m=(np.array(m)/t).tolist()\n",
    "                F_mean[0]=m[0]\n",
    "                F_mean[1]=m[1]\n",
    "                \n",
    "                F_means.append(F_mean)\n",
    "                \n",
    "        count+=1\n",
    "        k+=1\n",
    "\n",
    "    return F_means"
   ]
  },
  {
   "cell_type": "code",
   "execution_count": 37,
   "metadata": {},
   "outputs": [],
   "source": [
    "path = \"/GaitSequences1/train\"\n",
    "subfolders = [ f.path for f in os.scandir(path) if f.is_dir() ]\n",
    "\n",
    "data_per_sequence=[]\n",
    "train_ds=[[],[]]\n",
    "        \n",
    "for directory in subfolders:\n",
    "    label=int(os.path.basename(directory).lstrip('Person'))\n",
    "    for filename in os.listdir(directory):\n",
    "        f = os.path.join(directory, filename)\n",
    "        if os.path.isfile(f):\n",
    "            if f.endswith(\".txt\"):\n",
    "                data_per_sequence=[]\n",
    "                with open(f, 'r') as fl:\n",
    "                    var=fl.read()\n",
    "                    for line in var.splitlines():\n",
    "                        aList = list(ast.literal_eval(line))\n",
    "                        data_per_sequence.append(aList)\n",
    "                    f_means=mean_of_geometric(data_per_sequence)\n",
    "                    for i in range(0, len(f_means)):\n",
    "                        train_ds[0].append(f_means[i])\n",
    "                        train_ds[1].append((label-1))"
   ]
  },
  {
   "cell_type": "code",
   "execution_count": 38,
   "metadata": {},
   "outputs": [],
   "source": [
    "print(len(train_ds[0]))\n",
    "print(len(train_ds[0][0]))\n",
    "print(len(train_ds[0][0][0]))\n",
    "print(len(train_ds[0][0][0][0]))\n",
    "print(train_ds[1])\n",
    "print(np.array(train_ds[0]).shape)\n",
    "print(np.array(train_ds[1]).shape)\n",
    "print(train_ds[0][0][0][1])"
   ]
  },
  {
   "cell_type": "code",
   "execution_count": 39,
   "metadata": {},
   "outputs": [
    {
     "data": {
      "text/plain": [
       "RandomForestClassifier()"
      ]
     },
     "execution_count": 39,
     "metadata": {},
     "output_type": "execute_result"
    }
   ],
   "source": [
    "path = \"/GaitSequences1/test\"\n",
    "subfolders = [ f.path for f in os.scandir(path) if f.is_dir() ]\n",
    "\n",
    "data_per_sequence=[]\n",
    "test_ds=[[],[]]\n",
    "        \n",
    "for directory in subfolders:\n",
    "    label=int(os.path.basename(directory).lstrip('Person'))\n",
    "    for filename in os.listdir(directory):\n",
    "        f = os.path.join(directory, filename)\n",
    "        if os.path.isfile(f):\n",
    "            if f.endswith(\".txt\"):\n",
    "                data_per_sequence=[]\n",
    "                with open(f, 'r') as fl:\n",
    "                    var=fl.read()\n",
    "                    for line in var.splitlines():\n",
    "                        aList = list(ast.literal_eval(line))\n",
    "                        data_per_sequence.append(aList)\n",
    "                    f_means=mean_of_geometric(data_per_sequence)\n",
    "                    for i in range(0, len(f_means)):\n",
    "                        test_ds[0].append(f_means[i])\n",
    "                        test_ds[1].append((label-1))"
   ]
  },
  {
   "cell_type": "code",
   "execution_count": null,
   "metadata": {},
   "outputs": [],
   "source": [
    "print(len(test_ds[0]))\n",
    "print(len(test_ds[1]))\n",
    "print(np.array(test_ds[0]).shape)\n",
    "print(np.array(test_ds[1]).shape)\n",
    "print(test_ds[1])"
   ]
  },
  {
   "cell_type": "code",
   "execution_count": null,
   "metadata": {},
   "outputs": [],
   "source": [
    "#normalization\n",
    "import numpy as np\n",
    "from sklearn.preprocessing import StandardScaler\n",
    "\n",
    "temp=train_ds[0]\n",
    "train_ds[0] = (train_ds[0] - np.average(temp)) / (np.std(temp))\n",
    "test_ds[0] =(test_ds[0] - np.average(temp)) / (np.std(temp))\n",
    "print(train_ds[0].shape)\n",
    "print(test_ds[0].shape)"
   ]
  },
  {
   "cell_type": "code",
   "execution_count": null,
   "metadata": {},
   "outputs": [],
   "source": [
    "from sklearn.utils import shuffle\n",
    "train_data, train_label = shuffle(train_ds[0], train_ds[1])\n",
    "\n",
    "nsamples, nx, ny, nz = np.array(train_data).shape\n",
    "train_dataset = np.array(train_data).reshape((nsamples,nx*ny*nz))\n",
    "nsamples, nx, ny, nz = np.array(test_ds[0]).shape\n",
    "test_dataset = np.array(test_ds[0]).reshape((nsamples,nx*ny*nz))\n",
    "\n",
    "print(train_dataset.shape)\n",
    "print(np.array(train_ds[1]).shape)\n",
    "print(test_dataset.shape)\n",
    "print(np.array(test_ds[1]).shape)"
   ]
  },
  {
   "cell_type": "code",
   "execution_count": null,
   "metadata": {},
   "outputs": [
    {
     "ename": "",
     "evalue": "",
     "output_type": "error",
     "traceback": [
      "\u001b[1;31mThe kernel failed to start as a dll could not be loaded.\n",
      "\u001b[1;31mClick <a href='https://aka.ms/kernelFailuresDllLoad'>here</a> for more info."
     ]
    }
   ],
   "source": [
    "from sklearn import tree\n",
    "import sklearn\n",
    "clf = tree.DecisionTreeClassifier()\n",
    "clf.fit(train_dataset, train_label)\n",
    "y_pred = clf.predict(test_dataset)\n",
    "print(\"DT Accuracy: %.3f\" %sklearn.metrics.accuracy_score(test_ds[1], y_pred))"
   ]
  },
  {
   "cell_type": "code",
   "execution_count": 42,
   "metadata": {},
   "outputs": [],
   "source": [
    "from joblib import dump"
   ]
  },
  {
   "cell_type": "code",
   "execution_count": 43,
   "metadata": {},
   "outputs": [
    {
     "data": {
      "text/plain": [
       "['./../savedModels/model.joblib']"
      ]
     },
     "execution_count": 43,
     "metadata": {},
     "output_type": "execute_result"
    }
   ],
   "source": [
    "dump(clf, './../savedModels/clfDT.joblib')"
   ]
  }
 ],
 "metadata": {
  "kernelspec": {
   "display_name": "base",
   "language": "python",
   "name": "python3"
  },
  "language_info": {
   "codemirror_mode": {
    "name": "ipython",
    "version": 3
   },
   "file_extension": ".py",
   "mimetype": "text/x-python",
   "name": "python",
   "nbconvert_exporter": "python",
   "pygments_lexer": "ipython3",
   "version": "3.8.8"
  },
  "orig_nbformat": 4,
  "vscode": {
   "interpreter": {
    "hash": "b302cdd1e032ee910f5c889c3360c28564c92ad4f326fc3102e39fbe47faee66"
   }
  }
 },
 "nbformat": 4,
 "nbformat_minor": 2
}
